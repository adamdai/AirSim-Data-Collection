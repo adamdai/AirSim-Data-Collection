{
 "cells": [
  {
   "cell_type": "code",
   "execution_count": null,
   "metadata": {},
   "outputs": [],
   "source": [
    "import numpy as np\n",
    "import csv\n",
    "from pathlib import Path\n",
    "import matplotlib.pyplot as plt"
   ]
  },
  {
   "cell_type": "code",
   "execution_count": null,
   "metadata": {},
   "outputs": [],
   "source": [
    "def process_data(path, traj):\n",
    "    with open(path, 'r') as file:\n",
    "        reader = csv.reader(file, delimiter='\\t')\n",
    "        next(reader)  # Skip the header row\n",
    "\n",
    "        for i, row in enumerate(reader):\n",
    "            vehicle_name = row[0]\n",
    "            timestamp = int(row[1])\n",
    "            pos_x = float(row[2])\n",
    "            pos_y = float(row[3])\n",
    "            pos_z = float(row[4])\n",
    "            q_w = float(row[5])\n",
    "            q_x = float(row[6])\n",
    "            q_y = float(row[7])\n",
    "            q_z = float(row[8])\n",
    "            image_file = row[9]\n",
    "\n",
    "            traj['x'].append(pos_x)\n",
    "            traj['y'].append(pos_y)\n",
    "            traj['z'].append(pos_z)"
   ]
  },
  {
   "cell_type": "code",
   "execution_count": null,
   "metadata": {},
   "outputs": [],
   "source": [
    "path_1 = Path('C:/Users/Adam/Documents/AirSim/2023-08-21-15-34-41/airsim_rec.txt')\n",
    "path_2 = Path('C:/Users/Adam/Documents/AirSim/2023-08-21-15-37-16/airsim_rec.txt')\n",
    "\n",
    "\n",
    "traj_1 = {}\n",
    "traj_1['x'] = []\n",
    "traj_1['y'] = []\n",
    "traj_1['z'] = []\n",
    "\n",
    "traj_2 = {}\n",
    "traj_2['x'] = []\n",
    "traj_2['y'] = []\n",
    "traj_2['z'] = []\n",
    "\n",
    "process_data(path_1, traj_1)\n",
    "process_data(path_2, traj_2)"
   ]
  },
  {
   "cell_type": "code",
   "execution_count": null,
   "metadata": {},
   "outputs": [],
   "source": [
    "# Plot XY trajectory\n",
    "plt.plot(traj_1['x'], traj_1['y'], 'b')\n",
    "plt.plot(traj_2['x'], traj_2['y'], 'r')"
   ]
  },
  {
   "cell_type": "code",
   "execution_count": null,
   "metadata": {},
   "outputs": [],
   "source": [
    "for path in [Path('C:/Users/Adam/Documents/AirSim/venice_light_3.0_fog_0.0/airsim_rec.txt'),\n",
    "             Path('C:/Users/Adam/Documents/AirSim/venice_light_3.0_fog_0.3/airsim_rec.txt'),\n",
    "             Path('C:/Users/Adam/Documents/AirSim/venice_light_7.0_fog_0.0/airsim_rec.txt'),\n",
    "             Path('C:/Users/Adam/Documents/AirSim/venice_light_7.0_fog_0.3/airsim_rec.txt'),\n",
    "             Path('C:/Users/Adam/Documents/AirSim/venice_light_7.0_fog_0.6/airsim_rec.txt'),\n",
    "             Path('C:/Users/Adam/Documents/AirSim/venice_light_11.0_fog_0.0/airsim_rec.txt'),\n",
    "             Path('C:/Users/Adam/Documents/AirSim/venice_light_11.0_fog_0.3/airsim_rec.txt')]:\n",
    "    traj = {}\n",
    "    traj['x'] = []\n",
    "    traj['y'] = []\n",
    "    traj['z'] = []\n",
    "    process_data(path, traj)    \n",
    "    plt.plot(traj['x'], traj['y'], label=path.name)\n",
    "plt.show()"
   ]
  },
  {
   "cell_type": "code",
   "execution_count": null,
   "metadata": {},
   "outputs": [],
   "source": []
  }
 ],
 "metadata": {
  "kernelspec": {
   "display_name": "nerfnav",
   "language": "python",
   "name": "python3"
  },
  "language_info": {
   "codemirror_mode": {
    "name": "ipython",
    "version": 3
   },
   "file_extension": ".py",
   "mimetype": "text/x-python",
   "name": "python",
   "nbconvert_exporter": "python",
   "pygments_lexer": "ipython3",
   "version": "3.9.17"
  },
  "orig_nbformat": 4
 },
 "nbformat": 4,
 "nbformat_minor": 2
}
