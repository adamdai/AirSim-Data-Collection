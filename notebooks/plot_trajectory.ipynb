{
 "cells": [
  {
   "cell_type": "code",
   "execution_count": null,
   "metadata": {},
   "outputs": [],
   "source": [
    "import numpy as np\n",
    "import csv\n",
    "from pathlib import Path\n",
    "import matplotlib.pyplot as plt\n",
    "import plotly.graph_objects as go"
   ]
  },
  {
   "cell_type": "markdown",
   "metadata": {},
   "source": [
    "LandscapeMountains"
   ]
  },
  {
   "cell_type": "code",
   "execution_count": null,
   "metadata": {},
   "outputs": [],
   "source": [
    "traj = np.load(\"../data/manual_success_1.npz\")['states']\n",
    "\n",
    "fig = go.Figure()\n",
    "fig.add_trace(go.Scatter3d(x=traj[:, 1], y=traj[:, 0], z=-traj[:, 2], mode='lines', name='trajectory'))\n",
    "fig.update_layout(width=1200, height=800, scene=dict(aspectmode='data'))\n",
    "fig.show()"
   ]
  },
  {
   "cell_type": "markdown",
   "metadata": {},
   "source": [
    "Plot on top of neighborhood map"
   ]
  },
  {
   "cell_type": "code",
   "execution_count": null,
   "metadata": {},
   "outputs": [],
   "source": [
    "map_img = plt.imread(\"airsim_nh_map.png\")\n",
    "fig, ax = plt.subplots(1, 1, figsize=(12, 10))\n",
    "ax.imshow(map_img, extent=[-185, 185, -156, 156])\n",
    "\n",
    "for i in [1]:\n",
    "    manual = np.load(\"data/manual_{}.npz\".format(i))['states']\n",
    "    ax.plot(manual[:, 1], manual[:, 0], 'b-')\n",
    "\n",
    "for i in [1, 2]:\n",
    "    vint = np.load(\"data/vint_{}.npz\".format(i))['states']\n",
    "    if i == 1:\n",
    "        ax.plot(vint[:950, 1], vint[:950, 0], 'r-')\n",
    "    elif i == 2:\n",
    "        ax.plot(vint[:1250, 1], vint[:1250, 0], 'r-')\n",
    "\n",
    "# No axis labels\n",
    "ax.set_xticklabels([])\n",
    "ax.set_yticklabels([])\n",
    "ax.set_xticks([])\n",
    "ax.set_yticks([])\n",
    "plt.show()"
   ]
  },
  {
   "cell_type": "code",
   "execution_count": null,
   "metadata": {},
   "outputs": [],
   "source": [
    "fpv_img = plt.imread(\"data/drone_fpv.png\")\n",
    "# Invert colors in image\n",
    "plt.imshow(fpv_img[:,:,[2,1,0]])\n",
    "# No axis labels\n",
    "plt.axis('off')\n",
    "plt.show()"
   ]
  },
  {
   "cell_type": "markdown",
   "metadata": {},
   "source": [
    "Plot logged venice trajectories"
   ]
  },
  {
   "cell_type": "code",
   "execution_count": null,
   "metadata": {},
   "outputs": [],
   "source": [
    "def process_data(path, traj):\n",
    "    with open(path, 'r') as file:\n",
    "        reader = csv.reader(file, delimiter='\\t')\n",
    "        next(reader)  # Skip the header row\n",
    "\n",
    "        for i, row in enumerate(reader):\n",
    "            vehicle_name = row[0]\n",
    "            timestamp = int(row[1])\n",
    "            pos_x = float(row[2])\n",
    "            pos_y = float(row[3])\n",
    "            pos_z = float(row[4])\n",
    "            q_w = float(row[5])\n",
    "            q_x = float(row[6])\n",
    "            q_y = float(row[7])\n",
    "            q_z = float(row[8])\n",
    "            image_file = row[9]\n",
    "\n",
    "            traj['x'].append(pos_x)\n",
    "            traj['y'].append(pos_y)\n",
    "            traj['z'].append(pos_z)"
   ]
  },
  {
   "cell_type": "code",
   "execution_count": null,
   "metadata": {},
   "outputs": [],
   "source": [
    "path_1 = Path('C:/Users/Adam/Documents/AirSim/2023-08-21-15-34-41/airsim_rec.txt')\n",
    "path_2 = Path('C:/Users/Adam/Documents/AirSim/2023-08-21-15-37-16/airsim_rec.txt')\n",
    "\n",
    "\n",
    "traj_1 = {}\n",
    "traj_1['x'] = []\n",
    "traj_1['y'] = []\n",
    "traj_1['z'] = []\n",
    "\n",
    "traj_2 = {}\n",
    "traj_2['x'] = []\n",
    "traj_2['y'] = []\n",
    "traj_2['z'] = []\n",
    "\n",
    "process_data(path_1, traj_1)\n",
    "process_data(path_2, traj_2)"
   ]
  },
  {
   "cell_type": "code",
   "execution_count": null,
   "metadata": {},
   "outputs": [],
   "source": [
    "# Plot XY trajectory\n",
    "plt.plot(traj_1['x'], traj_1['y'], 'b')\n",
    "plt.plot(traj_2['x'], traj_2['y'], 'r')"
   ]
  },
  {
   "cell_type": "code",
   "execution_count": null,
   "metadata": {},
   "outputs": [],
   "source": [
    "for path in [Path('C:/Users/Adam/Documents/AirSim/venice_light_3.0_fog_0.0/airsim_rec.txt'),\n",
    "             Path('C:/Users/Adam/Documents/AirSim/venice_light_3.0_fog_0.3/airsim_rec.txt'),\n",
    "             Path('C:/Users/Adam/Documents/AirSim/venice_light_7.0_fog_0.0/airsim_rec.txt'),\n",
    "             Path('C:/Users/Adam/Documents/AirSim/venice_light_7.0_fog_0.3/airsim_rec.txt'),\n",
    "             Path('C:/Users/Adam/Documents/AirSim/venice_light_7.0_fog_0.6/airsim_rec.txt'),\n",
    "             Path('C:/Users/Adam/Documents/AirSim/venice_light_11.0_fog_0.0/airsim_rec.txt'),\n",
    "             Path('C:/Users/Adam/Documents/AirSim/venice_light_11.0_fog_0.3/airsim_rec.txt')]:\n",
    "    traj = {}\n",
    "    traj['x'] = []\n",
    "    traj['y'] = []\n",
    "    traj['z'] = []\n",
    "    process_data(path, traj)    \n",
    "    plt.plot(traj['x'], traj['y'], label=path.name)\n",
    "plt.show()"
   ]
  },
  {
   "cell_type": "code",
   "execution_count": null,
   "metadata": {},
   "outputs": [],
   "source": []
  }
 ],
 "metadata": {
  "kernelspec": {
   "display_name": "nerfnav",
   "language": "python",
   "name": "python3"
  },
  "language_info": {
   "codemirror_mode": {
    "name": "ipython",
    "version": 3
   },
   "file_extension": ".py",
   "mimetype": "text/x-python",
   "name": "python",
   "nbconvert_exporter": "python",
   "pygments_lexer": "ipython3",
   "version": "3.8.19"
  },
  "orig_nbformat": 4
 },
 "nbformat": 4,
 "nbformat_minor": 2
}
